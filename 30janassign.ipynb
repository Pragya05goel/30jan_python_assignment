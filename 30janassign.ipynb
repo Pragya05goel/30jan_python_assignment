{
 "cells": [
  {
   "cell_type": "markdown",
   "id": "fed0b432-aaab-4f93-a942-71224c0caba1",
   "metadata": {},
   "source": [
    "## ASSIGNMENT"
   ]
  },
  {
   "cell_type": "markdown",
   "id": "0d5d5386-0257-41b6-94b7-c563f1b31d66",
   "metadata": {},
   "source": [
    "Q1. Write a program to accept percentage from the user and display the grade according to the following"
   ]
  },
  {
   "cell_type": "code",
   "execution_count": 1,
   "id": "746004e1-b018-4fe9-9f40-e848b6237a33",
   "metadata": {},
   "outputs": [
    {
     "name": "stdin",
     "output_type": "stream",
     "text": [
      "Enter the percentage 96\n"
     ]
    },
    {
     "name": "stdout",
     "output_type": "stream",
     "text": [
      "A\n"
     ]
    }
   ],
   "source": [
    "percentage=int(input(\"Enter the percentage\"))\n",
    "if percentage>90:\n",
    "    print(\"A\")\n",
    "elif percentage>80 and percentage<=90:\n",
    "    print(\"B\")\n",
    "elif percentage>=60 and percentage<=80:\n",
    "    print(\"C\")\n",
    "else:\n",
    "    print(\"D\")"
   ]
  },
  {
   "cell_type": "markdown",
   "id": "825efcc9-4679-4035-a6a6-6d1b5fcea022",
   "metadata": {},
   "source": [
    "Q2. Write a program to accept the cost price of a bike and display the road tax to be paid according to the \n",
    "following criteria: "
   ]
  },
  {
   "cell_type": "code",
   "execution_count": 2,
   "id": "a34c6c6f-938c-4bff-9afd-b0c318886481",
   "metadata": {},
   "outputs": [
    {
     "name": "stdin",
     "output_type": "stream",
     "text": [
      "Enter the price 1250000\n"
     ]
    },
    {
     "name": "stdout",
     "output_type": "stream",
     "text": [
      "187500.0\n"
     ]
    }
   ],
   "source": [
    "price=int(input(\"Enter the price\"))\n",
    "if price>100000:\n",
    "    tax=0.15*price\n",
    "elif price>50000 and price<=100000:\n",
    "    tax=0.10*price\n",
    "elif price<=50000:\n",
    "    tax=0.05*price\n",
    "print(tax)"
   ]
  },
  {
   "cell_type": "markdown",
   "id": "ec279450-8bd4-40ec-894b-69fe8a6ab3f3",
   "metadata": {},
   "source": [
    "Q3. Accept any city from the user and display monuments of that city. "
   ]
  },
  {
   "cell_type": "code",
   "execution_count": 3,
   "id": "5eb0f845-6d94-41a4-97d6-bff35fbf6525",
   "metadata": {},
   "outputs": [
    {
     "name": "stdin",
     "output_type": "stream",
     "text": [
      "Enter city Delhi\n"
     ]
    },
    {
     "name": "stdout",
     "output_type": "stream",
     "text": [
      "Red Fort\n"
     ]
    }
   ],
   "source": [
    "city=input(\"Enter city\")\n",
    "if city==\"Delhi\":\n",
    "    print(\"Red Fort\")\n",
    "if city==\"Agra\":\n",
    "    print(\"Taj Mahal\")\n",
    "if city==\"Jaipur\":\n",
    "    print(\"Jal Mahal\")    "
   ]
  },
  {
   "cell_type": "markdown",
   "id": "f2f13558-3d47-489a-bd18-f76d8dbbd158",
   "metadata": {},
   "source": [
    "Q4. Check how many times a given number can be divided by 3 before it is less than or equal to 10. "
   ]
  },
  {
   "cell_type": "code",
   "execution_count": 4,
   "id": "2422cca6-bea9-4111-8df7-f32759e4f3c6",
   "metadata": {},
   "outputs": [
    {
     "name": "stdin",
     "output_type": "stream",
     "text": [
      "Enter the no 243\n"
     ]
    },
    {
     "name": "stdout",
     "output_type": "stream",
     "text": [
      "3\n"
     ]
    }
   ],
   "source": [
    "num=int(input(\"Enter the no\"))\n",
    "c=0\n",
    "while(num>10):\n",
    "    if(num%3==0):\n",
    "        c=c+1\n",
    "    num=num/3   \n",
    "print(c)        "
   ]
  },
  {
   "cell_type": "markdown",
   "id": "f469e5a8-6cc3-40c0-a62a-93a95811e47c",
   "metadata": {},
   "source": [
    "Q5. Why and When to Use while Loop in Python give a detailed description with example "
   ]
  },
  {
   "cell_type": "markdown",
   "id": "85b75d2c-3ae8-4093-99c2-62ffd16d90cb",
   "metadata": {},
   "source": [
    "A while loop is made up of a condition or expression followed by a block of code to run. The condition or expression will be evaluated in a Boolean context. If it turns out to be true, the code within the block will be run.This repeats until the condition evaluates as false. At this point, program execution will proceed to the first statement after the body of the loop.\n",
    "\n",
    "\n",
    "Therefore, it is used to execute a block of statements repeatedly until a given condition is satisfied. And when the condition becomes false, the line immediately after the loop in the program is executed.\n",
    "\n",
    "The While loop in Python is also called a pre-tested loop. It is typically used when the number of iterations is not known.\n",
    "\n",
    "A Python While loop expression/condition consists of three parts:\n",
    "\n",
    "1)A piece of code that needs to be repeated over and over\n",
    "\n",
    "2)The while keyword\n",
    "\n",
    "3)A condition that translates to either True or False\n",
    "\n",
    ". In Python, the test condition/expression will be checked first. If the condition holds True, the body of the loop will be entered.\n",
    "\n",
    ". After one iteration, it will check the condition again.\n",
    "\n",
    ". The process will continue until the condition becomes False.\n",
    "\n",
    ". The expression should be any valid Python expression that results in True or False. False is 0 while True is any non-zero     value.\n",
    "\n",
    ". The while loop body begins with an indentation while the first un-indented line represents the end of the while loop.\n",
    "\n",
    "Ex-"
   ]
  },
  {
   "cell_type": "code",
   "execution_count": 5,
   "id": "db1911f9-ede2-44ce-a8fa-d88c2ac40ccd",
   "metadata": {},
   "outputs": [
    {
     "name": "stdout",
     "output_type": "stream",
     "text": [
      "1\n",
      "2\n",
      "3\n",
      "4\n"
     ]
    }
   ],
   "source": [
    "i = 1\n",
    "while i < 5 :\n",
    "    print(i)\n",
    "    i += 1"
   ]
  },
  {
   "cell_type": "markdown",
   "id": "97169488-4b81-43db-a8be-773e268a7560",
   "metadata": {},
   "source": [
    "Q6. Use nested while loop to print 3 different pattern. "
   ]
  },
  {
   "cell_type": "code",
   "execution_count": 6,
   "id": "779f4750-7488-47b6-84bb-8a20addda924",
   "metadata": {},
   "outputs": [
    {
     "name": "stdin",
     "output_type": "stream",
     "text": [
      "enter the value of n = 8\n"
     ]
    },
    {
     "name": "stdout",
     "output_type": "stream",
     "text": [
      "* \n",
      "* * \n",
      "* * * \n",
      "* * * * \n",
      "* * * * * \n",
      "* * * * * * \n",
      "* * * * * * * \n",
      "* * * * * * * * \n"
     ]
    }
   ],
   "source": [
    "## Pattern 1\n",
    "n=int(input(\"enter the value of n =\"))\n",
    "i=0\n",
    "while(i<n):\n",
    "    j=0\n",
    "    while(j<i+1):\n",
    "        print(\"*\",end=\" \")\n",
    "        j=j+1\n",
    "    print()\n",
    "    i=i+1"
   ]
  },
  {
   "cell_type": "code",
   "execution_count": 7,
   "id": "ae5b5475-8e0e-4427-b5cb-36d783cc469c",
   "metadata": {},
   "outputs": [
    {
     "name": "stdin",
     "output_type": "stream",
     "text": [
      "enter the value of n = 8\n"
     ]
    },
    {
     "name": "stdout",
     "output_type": "stream",
     "text": [
      "* * * * * * * * \n",
      "* * * * * * * \n",
      "* * * * * * \n",
      "* * * * * \n",
      "* * * * \n",
      "* * * \n",
      "* * \n",
      "* \n"
     ]
    }
   ],
   "source": [
    "## Pattern 2\n",
    "n=int(input(\"enter the value of n =\"))\n",
    "i=0\n",
    "while(i<n):\n",
    "    j=-n\n",
    "    while(j<-i):\n",
    "        print(\"*\",end=\" \")\n",
    "        j=j+1\n",
    "    print()\n",
    "    i=i+1"
   ]
  },
  {
   "cell_type": "code",
   "execution_count": 8,
   "id": "9f94cad9-c972-40be-a5de-bdd36430d457",
   "metadata": {},
   "outputs": [
    {
     "name": "stdin",
     "output_type": "stream",
     "text": [
      "enter the value of n = 8\n"
     ]
    },
    {
     "name": "stdout",
     "output_type": "stream",
     "text": [
      "* * * * * * * * * \n",
      "* * * * * * * * * * \n",
      "* * * * * * * * * * * \n",
      "* * * * * * * * * * * * \n",
      "* * * * * * * * * * * * * \n",
      "* * * * * * * * * * * * * * \n",
      "* * * * * * * * * * * * * * * \n",
      "* * * * * * * * * * * * * * * * \n"
     ]
    }
   ],
   "source": [
    "## Pattern 3\n",
    "n=int(input(\"enter the value of n =\"))\n",
    "i=0\n",
    "while(i<n):\n",
    "    j=-(n+1)\n",
    "    while(j<i):\n",
    "        print(\"*\",end=\" \")\n",
    "        j=j+1\n",
    "    print() \n",
    "    i=i+1"
   ]
  },
  {
   "cell_type": "markdown",
   "id": "a71a3c27-f2d1-40d8-b42a-19a8db85f4f1",
   "metadata": {},
   "source": [
    "Q7. Reverse a while loop to display numbers from 10 to 1. "
   ]
  },
  {
   "cell_type": "code",
   "execution_count": 10,
   "id": "ce009b3a-0de7-4747-9082-bbd88a63c65b",
   "metadata": {},
   "outputs": [
    {
     "name": "stdout",
     "output_type": "stream",
     "text": [
      "10\n",
      "9\n",
      "8\n",
      "7\n",
      "6\n",
      "5\n",
      "4\n",
      "3\n",
      "2\n",
      "1\n"
     ]
    }
   ],
   "source": [
    "i=10\n",
    "while(i>=1):\n",
    "    print(i)\n",
    "    i=i-1"
   ]
  },
  {
   "cell_type": "markdown",
   "id": "74c82b7b-435d-436d-a214-0a01f45cf9ea",
   "metadata": {},
   "source": [
    "Q8. Reverse a while loop to display numbers from 10 to 1 "
   ]
  },
  {
   "cell_type": "code",
   "execution_count": 11,
   "id": "d2db2747-ffe6-4c5f-98f4-704338577c80",
   "metadata": {},
   "outputs": [
    {
     "name": "stdout",
     "output_type": "stream",
     "text": [
      "10\n",
      "9\n",
      "8\n",
      "7\n",
      "6\n",
      "5\n",
      "4\n",
      "3\n",
      "2\n",
      "1\n"
     ]
    }
   ],
   "source": [
    "i=10\n",
    "while(i>=1):\n",
    "    print(i)\n",
    "    i=i-1"
   ]
  },
  {
   "cell_type": "markdown",
   "id": "5430bb63-6795-417f-9275-5aaad1538bd6",
   "metadata": {},
   "source": [
    "---"
   ]
  }
 ],
 "metadata": {
  "kernelspec": {
   "display_name": "Python 3 (ipykernel)",
   "language": "python",
   "name": "python3"
  },
  "language_info": {
   "codemirror_mode": {
    "name": "ipython",
    "version": 3
   },
   "file_extension": ".py",
   "mimetype": "text/x-python",
   "name": "python",
   "nbconvert_exporter": "python",
   "pygments_lexer": "ipython3",
   "version": "3.10.8"
  }
 },
 "nbformat": 4,
 "nbformat_minor": 5
}
